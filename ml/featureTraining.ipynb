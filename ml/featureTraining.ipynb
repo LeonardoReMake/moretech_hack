{
 "cells": [
  {
   "cell_type": "code",
   "execution_count": null,
   "metadata": {
    "id": "KGp3ZxU86H2n"
   },
   "outputs": [],
   "source": [
    "import os\n",
    "import shutil"
   ]
  },
  {
   "cell_type": "code",
   "execution_count": null,
   "metadata": {
    "id": "ypHXlvA5_09q"
   },
   "outputs": [],
   "source": [
    "# !wget -O news.csv https://www.dropbox.com/s/uwa7c5uz7cac7cw/VMMRdb.zip?dl=0\n",
    "# os.mkdir(\"data\")\n",
    "# !unzip news.csv -d data"
   ]
  },
  {
   "cell_type": "code",
   "execution_count": null,
   "metadata": {
    "id": "NjXiF7T-RR9Y"
   },
   "outputs": [],
   "source": [
    "from google.colab import drive\n",
    "drive.mount('/content/drive')"
   ]
  },
  {
   "cell_type": "code",
   "execution_count": null,
   "metadata": {
    "id": "T4d3GLaJDYTJ"
   },
   "outputs": [],
   "source": []
  },
  {
   "cell_type": "code",
   "execution_count": null,
   "metadata": {
    "id": "l7RmDLN-DYQ2"
   },
   "outputs": [],
   "source": [
    "import torchvision.datasets as dset\n",
    "import torchvision.models as models\n",
    "import torchvision.transforms as transforms\n",
    "import torch\n",
    "import torch.nn as nn\n",
    "import torch.nn.functional as F\n",
    "import matplotlib.pyplot as plt\n",
    "from IPython import display\n",
    "import numpy as np\n",
    "from tqdm import tqdm_notebook as tn\n",
    "import json\n",
    "from torch.utils.data import Dataset, DataLoader"
   ]
  },
  {
   "cell_type": "code",
   "execution_count": null,
   "metadata": {
    "id": "6r0QB0_1JW43"
   },
   "outputs": [],
   "source": [
    "from PIL import Image, ImageFile\n",
    "ImageFile.LOAD_TRUNCATED_IMAGES = True"
   ]
  },
  {
   "cell_type": "code",
   "execution_count": null,
   "metadata": {
    "id": "PpnVOk7WNyGe"
   },
   "outputs": [],
   "source": [
    "import random\n",
    "import numpy as np\n",
    "import torch.backends.cudnn as cudnn\n",
    "\n",
    "def set_random_seed(seed=42):\n",
    "    torch.manual_seed(seed)\n",
    "    torch.cuda.manual_seed_all(seed)\n",
    "    \n",
    "    random.seed(seed)\n",
    "    np.random.seed(seed)\n",
    "    \n",
    "def prepare_cudnn(deterministic=True, benchmark=False):\n",
    "    if torch.cuda.is_available():\n",
    "        # CuDNN reproducibility\n",
    "        # https://pytorch.org/docs/stable/notes/randomness.html#cudnn\n",
    "        cudnn.deterministic = deterministic\n",
    "\n",
    "        # https://discuss.pytorch.org/t/how-should-i-disable-using-cudnn-in-my-code/38053/4\n",
    "        cudnn.benchmark = benchmark\n",
    "        \n",
    "def set_deterministic_behaviour(seed=42):\n",
    "    set_random_seed(seed)\n",
    "    prepare_cudnn(deterministic=True, benchmark=False)"
   ]
  },
  {
   "cell_type": "code",
   "execution_count": null,
   "metadata": {
    "id": "Mr9rqOFFU70W"
   },
   "outputs": [],
   "source": [
    "carsList = []\n",
    "modelList = []\n",
    "for carMarkInfo in carsInfo[\"list\"]:\n",
    "  mark = carMarkInfo[\"title\"].lower()\n",
    "  carsList.append(mark)\n",
    "  for modelInfo in carMarkInfo[\"models\"]:\n",
    "    model = modelInfo[\"title\"].lower()\n",
    "    modelList.extend(model.strip().split(\" \"))"
   ]
  },
  {
   "cell_type": "code",
   "execution_count": null,
   "metadata": {
    "id": "CrD8MC1_XQ_B"
   },
   "outputs": [],
   "source": []
  },
  {
   "cell_type": "code",
   "execution_count": null,
   "metadata": {
    "id": "Rf_wt_l0BJ6u"
   },
   "outputs": [],
   "source": [
    "class CarDataset(Dataset):\n",
    "    \n",
    "    def __init__(self, transforms):\n",
    "      self.standfordCarsFolder =..\n",
    "      self.carsFolder = ...\n",
    "      self.transforms = transforms\n",
    "      self.classes = set()\n",
    "      self.classesMap = dict()\n",
    "\n",
    "      self.cars = []\n",
    "      for model in os.listdir(self.standfordCarsFolder):\n",
    "        pathModel = os.path.join(self.standfordCarsFolder, model)\n",
    "        carModel = \"_\".join(model.lower().strip().split(\" \"))\n",
    "\n",
    "        if int(carModel.split(\"_\")[-1]) < 2000:\n",
    "          continue\n",
    "\n",
    "        has = False\n",
    "        for carModelFromList in carsList:\n",
    "          if carModelFromList in carModel:\n",
    "            has = True\n",
    "            break\n",
    "        if not has:\n",
    "          continue\n",
    "        has = False\n",
    "        for carModelFromList in modelList:\n",
    "          if carModelFromList in carModel:\n",
    "            has = True\n",
    "            break\n",
    "        if not has:\n",
    "          continue\n",
    "\n",
    "        self.classes.add(carModel)\n",
    "        self.classesMap[carModel] = len(self.classes)\n",
    "        \n",
    "\n",
    "        for carImage in os.listdir(pathModel):\n",
    "          self.cars.append([carModel, os.path.join(pathModel, carImage)])\n",
    "\n",
    "      for model in os.listdir(self.carsFolder):\n",
    "        if int(model.split(\"_\")[-1]) < 2000:\n",
    "          continue\n",
    "        pathModel = os.path.join(self.carsFolder, model)\n",
    "\n",
    "        has = False\n",
    "        for carModelFromList in carsList:\n",
    "          if carModelFromList in model:\n",
    "            has = True\n",
    "            break\n",
    "        if not has:\n",
    "          continue\n",
    "        has = False\n",
    "        for carModelFromList in modelList:\n",
    "          if carModelFromList in carModel:\n",
    "            has = True\n",
    "            break\n",
    "        if not has:\n",
    "          continue\n",
    "\n",
    "        self.classes.add(model)\n",
    "        self.classesMap[model] = len(model)\n",
    "        \n",
    "        for carImage in os.listdir(pathModel):\n",
    "          self.cars.append([model, os.path.join(pathModel, carImage)])\n",
    "      \n",
    "      self.classes = list(self.classes)\n",
    "\n",
    "\n",
    "    def __len__(self):\n",
    "        return len(self.cars)\n",
    "\n",
    "\n",
    "    def __getitem__(self, idx):\n",
    "      image = self.transforms(Image.open(self.cars[idx][1]).convert('RGB'))\n",
    "      \n",
    "      label = self.classesMap[self.cars[idx][0]]\n",
    "\n",
    "      return image, label, self.cars[idx][1]\n",
    "\n"
   ]
  },
  {
   "cell_type": "code",
   "execution_count": null,
   "metadata": {
    "id": "4_WO93g-GSQz"
   },
   "outputs": [],
   "source": [
    "dataset = CarDataset(transforms=transforms.Compose([\n",
    "                                              transforms.Resize((224,224)),\n",
    "                                               transforms.RandomHorizontalFlip(),\n",
    "                                               transforms.ToTensor(),\n",
    "                                               transforms.Normalize(mean=[0.485, 0.456, 0.406],\n",
    "                                                  std=[0.229, 0.224, 0.225]),\n",
    "                                               ] ))"
   ]
  },
  {
   "cell_type": "code",
   "execution_count": null,
   "metadata": {
    "id": "WzZmlTxrKBZp"
   },
   "outputs": [],
   "source": [
    "def load_image(pathToImage):\n",
    "  try:\n",
    "    pilImage = Image.open(pathToImage)\n",
    "    pilImage = pilImage.convert('RGB')\n",
    "    return pilImage\n",
    "  except:\n",
    "    imRaw = pyheif.read(pathToImage)\n",
    "    pilImage = Image.frombytes(mode=imRaw.mode, size=imRaw.size, data=imRaw.data)\n",
    "    pilImage = pilImage.convert('RGB')\n",
    "    return pilImage\n",
    "    \n",
    "class CarDataset2(Dataset):\n",
    "  \n",
    "  def __init__(self, transforms):\n",
    "    self.carFolder = \"./BTBCars/\"\n",
    "    \n",
    "    self.transforms = transforms\n",
    "    self.classes = set()\n",
    "    self.classesMap = dict()\n",
    "\n",
    "    self.cars = []\n",
    "    for model in os.listdir(self.carFolder):\n",
    "      pathModel = os.path.join(self.carFolder, model)\n",
    "      carModel = \"_\".join(model.lower().strip().split(\" \"))\n",
    "\n",
    "      self.classes.add(carModel)\n",
    "      self.classesMap[carModel] = len(self.classes) + len(dataset.classes)\n",
    "      \n",
    "\n",
    "      for carImage in os.listdir(pathModel):\n",
    "        self.cars.append([carModel, os.path.join(pathModel, carImage)])\n",
    "\n",
    "    self.classes = list(self.classes)\n",
    "\n",
    "\n",
    "  def __len__(self):\n",
    "      return len(self.cars)\n",
    "\n",
    "\n",
    "  def __getitem__(self, idx):\n",
    "    image = self.transforms(load_image(self.cars[idx][1]).convert('RGB'))\n",
    "    \n",
    "    label = self.classesMap[self.cars[idx][0]]\n",
    "\n",
    "    return image, label, self.cars[idx][1]\n",
    "\n",
    "from torchvision.datasets import ImageFolder\n",
    "from PIL import Image, ImageFile\n",
    "ImageFile.LOAD_TRUNCATED_IMAGES = True\n",
    "\n",
    "!pip install pyheif\n",
    "import pyheif\n",
    "dataset2 = CarDataset2(transforms=transforms.Compose([\n",
    "                                              transforms.Resize((224,224)),\n",
    "                                             #  transforms.RandomCrop(224,224),\n",
    "                                              #  transforms.Resize((1300,1300)),\n",
    "                                             #   transforms.RandomCrop(1024,1024),\n",
    "                                               transforms.RandomHorizontalFlip(),\n",
    "                                               transforms.ToTensor(),\n",
    "                                               transforms.Normalize(mean=[0.485, 0.456, 0.406],\n",
    "                                                  std=[0.229, 0.224, 0.225]),\n",
    "                                               ] )\n",
    "                      )\n",
    "batch_size = 64\n",
    "set_deterministic_behaviour()\n",
    "data_loader2 = torch.utils.data.DataLoader(dataset2,\n",
    "                                          batch_size=batch_size,\n",
    "                                          shuffle=True)"
   ]
  },
  {
   "cell_type": "code",
   "execution_count": null,
   "metadata": {
    "id": "voo17_wVwulu"
   },
   "outputs": [],
   "source": []
  },
  {
   "cell_type": "code",
   "execution_count": null,
   "metadata": {
    "id": "HQFZIoGUI-n8"
   },
   "outputs": [],
   "source": [
    "batch_size = 64\n",
    "set_deterministic_behaviour()\n",
    "data_loader = torch.utils.data.DataLoader(dataset,\n",
    "                                          batch_size=batch_size,\n",
    "                                          shuffle=True)"
   ]
  },
  {
   "cell_type": "code",
   "execution_count": null,
   "metadata": {
    "id": "0u7PxMM1LHG8"
   },
   "outputs": [],
   "source": [
    "import torchvision.models as models"
   ]
  },
  {
   "cell_type": "code",
   "execution_count": null,
   "metadata": {
    "id": "t7-PW6nkLKzn"
   },
   "outputs": [],
   "source": [
    "model = nn.Sequential( *list(models.resnet50(pretrained=True).children())[:-1],\\\n",
    "                      nn.Flatten(1),\n",
    "                      nn.Linear(in_features=2048, out_features=len(dataset.classes), bias=True)\n",
    "                     )\n"
   ]
  },
  {
   "cell_type": "code",
   "execution_count": null,
   "metadata": {
    "id": "aaFTAOvNLNDp"
   },
   "outputs": [],
   "source": [
    "lr = 0.0001\n",
    "optimizer = torch.optim.Adam(model.parameters(), lr)"
   ]
  },
  {
   "cell_type": "code",
   "execution_count": null,
   "metadata": {
    "id": "SSNqwsnHLO9T"
   },
   "outputs": [],
   "source": [
    "epoch_num = 15"
   ]
  },
  {
   "cell_type": "code",
   "execution_count": null,
   "metadata": {
    "id": "5nd1yDLlLPxO"
   },
   "outputs": [],
   "source": [
    "loss_function = nn.CrossEntropyLoss()"
   ]
  },
  {
   "cell_type": "code",
   "execution_count": null,
   "metadata": {
    "id": "ejU31ii_Lkn3"
   },
   "outputs": [],
   "source": [
    "folderToDump = ...\n",
    "try:\n",
    "  os.mkdir(folderToDump)\n",
    "except:\n",
    "  pass"
   ]
  },
  {
   "cell_type": "code",
   "execution_count": null,
   "metadata": {
    "id": "DkBic4HkLQqM"
   },
   "outputs": [],
   "source": [
    "def train(train_dataloader, net, optimizer, loss_func, epoch_num, w_decay=0):\n",
    "    set_deterministic_behaviour()\n",
    "    net.cuda()\n",
    "\n",
    "    lr = 0.0001\n",
    "    test_losses = []\n",
    "    train_losses = []\n",
    "    test_acces = []\n",
    "    for epoch in range(epoch_num):\n",
    "        if epoch in [0, 7, 11]:\n",
    "            lr = lr / 10\n",
    "            optimizer = torch.optim.Adam(net.parameters(), weight_decay=w_decay, lr=lr)\n",
    "\n",
    "        net.train()\n",
    "        train_loss = []\n",
    "        progress = tn(train_dataloader)\n",
    "        for x, y in progress:\n",
    "            x = x.cuda()\n",
    "            y = y.cuda()\n",
    "            optimizer.zero_grad()\n",
    "            \n",
    "            out = net(x)        \n",
    "  \n",
    "            loss = loss_func(out, y)\n",
    "            \n",
    "            loss.backward()\n",
    "            optimizer.step()\n",
    "            \n",
    "            train_loss.append(loss.item())\n",
    "            \n",
    "            progress.set_description(\"loss: %f.3\" % np.mean(train_loss) )\n",
    "            del(x)\n",
    "            del(y)\n",
    "            del(out)\n",
    "            del(loss)\n",
    "\n",
    "        train_losses.append(np.mean(train_loss))\n",
    "        plt.title(\"epoch:{} train loss: {},\\n\".format(epoch, train_losses[-1]))\n",
    "        display.clear_output(wait=True)\n",
    "     \n",
    "        torch.save(net.state_dict(), folderToDump+\"/\" + str(epoch))\n",
    "        logs = dict()\n",
    "        logs[\"trainLoss\"] = train_loss\n",
    "        \n",
    "        with open( folderToDump + \"/log\" + str(epoch) + \".txt\", \"w\" ) as f:\n",
    "          json.dump(logs, f)"
   ]
  },
  {
   "cell_type": "code",
   "execution_count": null,
   "metadata": {
    "id": "kCAaij7TLpFA"
   },
   "outputs": [],
   "source": [
    "train(data_loader, model, optimizer, loss_function, epoch_num)"
   ]
  },
  {
   "cell_type": "code",
   "execution_count": null,
   "metadata": {
    "id": "xBY8D5eDLvw0"
   },
   "outputs": [],
   "source": [
    "model.load_state_dict(torch.load(folderToDump+\"/\" + str(4)))"
   ]
  },
  {
   "cell_type": "code",
   "execution_count": null,
   "metadata": {
    "id": "VgMbSR72mmzi"
   },
   "outputs": [],
   "source": []
  },
  {
   "cell_type": "code",
   "execution_count": null,
   "metadata": {
    "id": "e4UIjGFgmmvf"
   },
   "outputs": [],
   "source": [
    "featureExtractor = nn.Sequential(*list(model.children())[:-1]).cuda()"
   ]
  },
  {
   "cell_type": "code",
   "execution_count": null,
   "metadata": {
    "id": "TaUIDLYZoXC7"
   },
   "outputs": [],
   "source": [
    "featureExtractor"
   ]
  },
  {
   "cell_type": "code",
   "execution_count": null,
   "metadata": {
    "id": "pX5-z0K0nCqA"
   },
   "outputs": [],
   "source": [
    "carLabelMap = dict()\n",
    "count = 0\n",
    "for carClass in dataset.classesMap.values():\n",
    "  if carClass not in carLabelMap:\n",
    "    carLabelMap[carClass] = count\n",
    "    count += 1\n",
    "for carClass in dataset2.classesMap.values():\n",
    "  if carClass not in carLabelMap:\n",
    "    carLabelMap[carClass] = count\n",
    "    count += 1\n",
    "      \n",
    "meanFeatureVectors = np.zeros((len(carLabelMap.keys()), 2048))\n",
    "vectorCounts = np.zeros((len(carLabelMap.keys())))"
   ]
  },
  {
   "cell_type": "code",
   "execution_count": null,
   "metadata": {
    "id": "98440w0cjJez"
   },
   "outputs": [],
   "source": [
    "featureExtractor.eval()\n",
    "featureVectors = []\n",
    "paths = []\n",
    "labels = []\n",
    "for x, y, path in tn(data_loader):\n",
    "  out = featureExtractor(x.cuda()).detach().cpu().numpy()\n",
    "  featureVectors.extend(list(out))\n",
    "  labels.extend(y.numpy())\n",
    "  paths.extend(path)\n",
    "\n",
    "  for index in range(len(path)):\n",
    "    meanFeatureVectors[carLabelMap[y[index].item()]] += out[index]\n",
    "    vectorCounts[carLabelMap[y[index].item()]] += 1\n",
    "\n",
    "\n"
   ]
  },
  {
   "cell_type": "code",
   "execution_count": null,
   "metadata": {
    "id": "JKxw2wBZpcmO"
   },
   "outputs": [],
   "source": []
  },
  {
   "cell_type": "code",
   "execution_count": null,
   "metadata": {
    "id": "Mr6sAkL1qxpZ"
   },
   "outputs": [],
   "source": []
  },
  {
   "cell_type": "code",
   "execution_count": null,
   "metadata": {
    "id": "TRfxw0DMuA3M"
   },
   "outputs": [],
   "source": []
  },
  {
   "cell_type": "code",
   "execution_count": null,
   "metadata": {
    "id": "W0hNkMSXqRSL"
   },
   "outputs": [],
   "source": []
  },
  {
   "cell_type": "code",
   "execution_count": null,
   "metadata": {
    "id": "yDKRDp08qY1l"
   },
   "outputs": [],
   "source": []
  },
  {
   "cell_type": "code",
   "execution_count": null,
   "metadata": {
    "id": "7zLCrudUqeeH"
   },
   "outputs": [],
   "source": [
    "featureExtractor.eval()\n",
    "\n",
    "for x, y, path in tn(data_loader2):\n",
    "  out = featureExtractor(x.cuda()).detach().cpu().numpy()\n",
    "  featureVectors.extend(list(out))\n",
    "  labels.extend(y.numpy())\n",
    "  paths.extend(path)\n",
    "\n",
    "  for index in range(len(path)):\n",
    "    meanFeatureVectors[carLabelMap[y[index].item()]] += out[index]\n",
    "    vectorCounts[carLabelMap[y[index].item()]] += 1\n",
    "\n",
    "\n"
   ]
  },
  {
   "cell_type": "code",
   "execution_count": null,
   "metadata": {
    "id": "yTEcRgBh32as"
   },
   "outputs": [],
   "source": [
    "data = dict()\n",
    "data[\"features\"] = featureVectors\n",
    "data[\"path\"] =paths\n",
    "data[\"labels\"] = labels\n",
    "data[\"meanFeatureVectors/\"] = meanFeatureVectors\n",
    "data[\"vectorCounts\"] = vectorCounts"
   ]
  },
  {
   "cell_type": "code",
   "execution_count": null,
   "metadata": {
    "id": "CPjb6wFG4of9"
   },
   "outputs": [],
   "source": [
    "import pickle"
   ]
  },
  {
   "cell_type": "code",
   "execution_count": null,
   "metadata": {
    "id": "VQ9u63rQ_l74"
   },
   "outputs": [],
   "source": [
    "with open('drive/My Drive/data.pickle', 'wb') as f:\n",
    "  pickle.dump(data, f)"
   ]
  }
 ],
 "metadata": {
  "accelerator": "GPU",
  "colab": {
   "collapsed_sections": [],
   "name": "featureTraining.ipynb",
   "private_outputs": true,
   "provenance": []
  },
  "kernelspec": {
   "display_name": "Python 3",
   "language": "python",
   "name": "python3"
  },
  "language_info": {
   "codemirror_mode": {
    "name": "ipython",
    "version": 3
   },
   "file_extension": ".py",
   "mimetype": "text/x-python",
   "name": "python",
   "nbconvert_exporter": "python",
   "pygments_lexer": "ipython3",
   "version": "3.7.3"
  }
 },
 "nbformat": 4,
 "nbformat_minor": 1
}
